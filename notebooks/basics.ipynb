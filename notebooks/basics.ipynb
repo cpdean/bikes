{
 "metadata": {
  "name": "",
  "signature": "sha256:2e793b18c5a90c99dca2d491508d09be5f4a3c149da1cc5a8d56dd56db364e9b"
 },
 "nbformat": 3,
 "nbformat_minor": 0,
 "worksheets": [
  {
   "cells": [
    {
     "cell_type": "code",
     "collapsed": false,
     "input": [
      "%pylab inline\n",
      "import pandas"
     ],
     "language": "python",
     "metadata": {},
     "outputs": [
      {
       "output_type": "stream",
       "stream": "stdout",
       "text": [
        "Populating the interactive namespace from numpy and matplotlib\n"
       ]
      }
     ],
     "prompt_number": 1
    },
    {
     "cell_type": "code",
     "collapsed": false,
     "input": [
      "df = pandas.read_csv(\"../data/NRMN-2013-results/all-rentals-2013.csv\")"
     ],
     "language": "python",
     "metadata": {},
     "outputs": [],
     "prompt_number": 2
    },
    {
     "cell_type": "code",
     "collapsed": false,
     "input": [
      "df[\"start_ts\"] = pandas.to_datetime(df[\"Start date\"])"
     ],
     "language": "python",
     "metadata": {},
     "outputs": [],
     "prompt_number": 3
    },
    {
     "cell_type": "code",
     "collapsed": false,
     "input": [
      "df.head(3)"
     ],
     "language": "python",
     "metadata": {},
     "outputs": [
      {
       "html": [
        "<div style=\"max-height:1000px;max-width:1500px;overflow:auto;\">\n",
        "<table border=\"1\" class=\"dataframe\">\n",
        "  <thead>\n",
        "    <tr style=\"text-align: right;\">\n",
        "      <th></th>\n",
        "      <th>Duration</th>\n",
        "      <th>Start date</th>\n",
        "      <th>Start Station</th>\n",
        "      <th>Start terminal</th>\n",
        "      <th>End date</th>\n",
        "      <th>End Station</th>\n",
        "      <th>End terminal</th>\n",
        "      <th>Bike#</th>\n",
        "      <th>start_ts</th>\n",
        "    </tr>\n",
        "  </thead>\n",
        "  <tbody>\n",
        "    <tr>\n",
        "      <th>0</th>\n",
        "      <td>  0h 0m 6s</td>\n",
        "      <td> 11/3/2013 22:07</td>\n",
        "      <td>                  Gateway Park</td>\n",
        "      <td> 30091</td>\n",
        "      <td> 11/3/2013 22:07</td>\n",
        "      <td>                   Gateway Park</td>\n",
        "      <td> 30091</td>\n",
        "      <td> N01664</td>\n",
        "      <td>2013-11-03 22:07:00</td>\n",
        "    </tr>\n",
        "    <tr>\n",
        "      <th>1</th>\n",
        "      <td>  0h 0m 9s</td>\n",
        "      <td> 11/3/2013 22:02</td>\n",
        "      <td> 6th Ave. SE &amp; University Ave.</td>\n",
        "      <td> 30088</td>\n",
        "      <td> 11/3/2013 22:02</td>\n",
        "      <td>  6th Ave. SE &amp; University Ave.</td>\n",
        "      <td> 30088</td>\n",
        "      <td> N00661</td>\n",
        "      <td>2013-11-03 22:02:00</td>\n",
        "    </tr>\n",
        "    <tr>\n",
        "      <th>2</th>\n",
        "      <td> 0h 1m 55s</td>\n",
        "      <td> 11/3/2013 22:02</td>\n",
        "      <td>                 YWCA Downtown</td>\n",
        "      <td> 30006</td>\n",
        "      <td> 11/3/2013 22:04</td>\n",
        "      <td> Nicollet Mall and Grant Street</td>\n",
        "      <td> 30052</td>\n",
        "      <td> N01780</td>\n",
        "      <td>2013-11-03 22:02:00</td>\n",
        "    </tr>\n",
        "  </tbody>\n",
        "</table>\n",
        "<p>3 rows \u00d7 9 columns</p>\n",
        "</div>"
       ],
       "metadata": {},
       "output_type": "pyout",
       "prompt_number": 4,
       "text": [
        "    Duration       Start date                  Start Station  Start terminal  \\\n",
        "0   0h 0m 6s  11/3/2013 22:07                   Gateway Park           30091   \n",
        "1   0h 0m 9s  11/3/2013 22:02  6th Ave. SE & University Ave.           30088   \n",
        "2  0h 1m 55s  11/3/2013 22:02                  YWCA Downtown           30006   \n",
        "\n",
        "          End date                     End Station  End terminal   Bike#  \\\n",
        "0  11/3/2013 22:07                    Gateway Park         30091  N01664   \n",
        "1  11/3/2013 22:02   6th Ave. SE & University Ave.         30088  N00661   \n",
        "2  11/3/2013 22:04  Nicollet Mall and Grant Street         30052  N01780   \n",
        "\n",
        "             start_ts  \n",
        "0 2013-11-03 22:07:00  \n",
        "1 2013-11-03 22:02:00  \n",
        "2 2013-11-03 22:02:00  \n",
        "\n",
        "[3 rows x 9 columns]"
       ]
      }
     ],
     "prompt_number": 4
    },
    {
     "cell_type": "markdown",
     "metadata": {},
     "source": [
      "Whoa!  Does pandas look at the whole column to derive the date time format?  \n",
      "\n",
      "Because that's what it looks like it just did.  This is great!\n",
      "\n",
      "Should convert the other column and then validate the durations."
     ]
    },
    {
     "cell_type": "code",
     "collapsed": false,
     "input": [
      "df[\"end_ts\"] = pandas.to_datetime(df[\"End date\"])"
     ],
     "language": "python",
     "metadata": {},
     "outputs": [],
     "prompt_number": 5
    },
    {
     "cell_type": "code",
     "collapsed": false,
     "input": [
      "len(df[\"Bike#\"].unique())"
     ],
     "language": "python",
     "metadata": {},
     "outputs": [
      {
       "metadata": {},
       "output_type": "pyout",
       "prompt_number": 6,
       "text": [
        "1533"
       ]
      }
     ],
     "prompt_number": 6
    },
    {
     "cell_type": "code",
     "collapsed": false,
     "input": [
      "bike_grouped = df.groupby(\"Bike#\")\n",
      "s = bike_grouped.size()\n",
      "s.describe()"
     ],
     "language": "python",
     "metadata": {},
     "outputs": [
      {
       "metadata": {},
       "output_type": "pyout",
       "prompt_number": 7,
       "text": [
        "count    1533.000000\n",
        "mean      200.946510\n",
        "std        65.601443\n",
        "min         3.000000\n",
        "25%       161.000000\n",
        "50%       205.000000\n",
        "75%       246.000000\n",
        "max       440.000000\n",
        "dtype: float64"
       ]
      }
     ],
     "prompt_number": 7
    },
    {
     "cell_type": "code",
     "collapsed": false,
     "input": [
      "bike_grouped.size()[bike_grouped.size() > 300]"
     ],
     "language": "python",
     "metadata": {},
     "outputs": [
      {
       "metadata": {},
       "output_type": "pyout",
       "prompt_number": 8,
       "text": [
        "Bike#\n",
        "C00323    331\n",
        "C00348    311\n",
        "C00353    309\n",
        "C00358    301\n",
        "C00395    312\n",
        "C00399    312\n",
        "C00403    316\n",
        "C00419    333\n",
        "C00428    306\n",
        "C00477    304\n",
        "C00483    301\n",
        "C00518    344\n",
        "N00005    305\n",
        "N00024    303\n",
        "N00045    337\n",
        "...\n",
        "N01664    311\n",
        "N01697    440\n",
        "N01723    355\n",
        "N01726    303\n",
        "N01735    310\n",
        "N01740    309\n",
        "N01746    312\n",
        "N01768    315\n",
        "N01772    347\n",
        "N01812    338\n",
        "N01818    310\n",
        "N01885    322\n",
        "N01906    315\n",
        "N01970    314\n",
        "N01971    307\n",
        "Length: 73, dtype: int64"
       ]
      }
     ],
     "prompt_number": 8
    },
    {
     "cell_type": "code",
     "collapsed": false,
     "input": [
      "df.index = df.start_ts\n",
      "df[df[\"Bike#\"] == \"N01697\"].resample(\"d\", how=\"count\").plot()"
     ],
     "language": "python",
     "metadata": {},
     "outputs": [
      {
       "metadata": {},
       "output_type": "pyout",
       "prompt_number": 9,
       "text": [
        "<matplotlib.axes.AxesSubplot at 0x10cce5990>"
       ]
      },
      {
       "metadata": {},
       "output_type": "display_data",
       "png": "[encoded data removed]",
       "text": [
        "<matplotlib.figure.Figure at 0x10cce5910>"
       ]
      }
     ],
     "prompt_number": 9
    },
    {
     "cell_type": "markdown",
     "metadata": {},
     "source": [
      "Wow that's such a huge spike"
     ]
    },
    {
     "cell_type": "code",
     "collapsed": false,
     "input": [
      "df.resample(\"d\", how=\"count\").plot()"
     ],
     "language": "python",
     "metadata": {},
     "outputs": [
      {
       "metadata": {},
       "output_type": "pyout",
       "prompt_number": 10,
       "text": [
        "<matplotlib.axes.AxesSubplot at 0x10cce5390>"
       ]
      },
      {
       "metadata": {},
       "output_type": "display_data",
       "png": "[encoded data removed]",
       "text": [
        "<matplotlib.figure.Figure at 0x10ccf88d0>"
       ]
      }
     ],
     "prompt_number": 10
    },
    {
     "cell_type": "code",
     "collapsed": false,
     "input": [
      "bike_grouped.size()[bike_grouped.size() > 340]"
     ],
     "language": "python",
     "metadata": {},
     "outputs": [
      {
       "metadata": {},
       "output_type": "pyout",
       "prompt_number": 11,
       "text": [
        "Bike#\n",
        "C00518    344\n",
        "N00101    358\n",
        "N00294    365\n",
        "N00446    352\n",
        "N00463    364\n",
        "N00493    369\n",
        "N01151    345\n",
        "N01180    347\n",
        "N01697    440\n",
        "N01723    355\n",
        "N01772    347\n",
        "dtype: int64"
       ]
      }
     ],
     "prompt_number": 11
    }
   ],
   "metadata": {}
  }
 ]
}